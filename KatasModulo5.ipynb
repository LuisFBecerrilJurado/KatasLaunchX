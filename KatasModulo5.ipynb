{
 "cells": [
  {
   "cell_type": "markdown",
   "metadata": {},
   "source": [
    "# Ejercicio1 - Utilizar operadores aritméticos\n",
    "\n"
   ]
  },
  {
   "cell_type": "markdown",
   "metadata": {},
   "source": [
    "### Operadores aritméticos en Python\n",
    "\n",
    "  Python proporciona operadores aritméticos comunes para que puedas realizar operaciones matemáticas en tu código. Estos incluyen las cuatro operaciones principales de suma, resta, multiplicación y división.\n",
    "\n",
    "  Exploremos cómo podemos crear un programa que pueda calcular la distancia entre dos planetas. Comenzaremos usando dos   distancias de planetas: Tierra (149.597.870 km) y Júpiter (778.547.200 km).\n",
    "\n",
    "   **TIP** Dedica unos minutos a tratar de encontrar una solución. Luego desplázate hacia abajo hasta la parte inferior para ver si has logrado compilar el programa de acuerdo con las especificaciones.\n",
    "\n",
    "  *Nota:** Quita las comas cuando uses los valores."
   ]
  },
  {
   "cell_type": "code",
   "execution_count": 1,
   "metadata": {},
   "outputs": [],
   "source": [
    "# Crear variables para almacenar las dos distancias\n",
    "# ¡Asegúrate de quitar las comas!\n",
    "\n",
    "distanciaTierra = 149597870\n",
    "\n",
    "distanciaJupiter = 778547200"
   ]
  },
  {
   "cell_type": "markdown",
   "metadata": {},
   "source": [
    "### Realizar la operación\n",
    "Con los valores obtenidos, es el momento de añadir el código para realizar la operación. Restarás el primer planeta del segundo para determinar la distancia en kilómetros. A continuación, puedes convertir la distancia del kilómetro en millas multiplicándola por `1.609344`."
   ]
  },
  {
   "cell_type": "code",
   "execution_count": 2,
   "metadata": {},
   "outputs": [
    {
     "name": "stdout",
     "output_type": "stream",
     "text": [
      "628949330\n",
      "383246500.53952\n"
     ]
    }
   ],
   "source": [
    "# Calcular la distancia entre planetas\n",
    "\n",
    "milla=0.609344\n",
    "\n",
    "distanciaentreplanetaskm = distanciaJupiter - distanciaTierra\n",
    "\n",
    "distanciaentreplanetasmilla = distanciaentreplanetaskm * milla\n",
    "\n",
    "print(distanciaentreplanetaskm)\n",
    "\n",
    "print(distanciaentreplanetasmilla)"
   ]
  },
  {
   "cell_type": "markdown",
   "metadata": {},
   "source": [
    "# Ejercicio 2: convierte cadenas en números y usa valores absolutos"
   ]
  },
  {
   "cell_type": "markdown",
   "metadata": {},
   "source": [
    "### Crear una aplicación para trabajar con números y entrada de usuario\n",
    "\n",
    "Con frecuencia, deberás convertir los valores de cadena en números para realizar correctamente diferentes operaciones o determinar el valor absoluto de un número.\n",
    "\n",
    "Para crear nuestra aplicación, queremos leer la distancia del sol para dos planetas, y luego mostrar la distancia entre los planetas. Haremos esto usando `input` para leer los valores, `int` para convertir a entero y luego `abs` para convertir el resultado en su valor absoluto."
   ]
  },
  {
   "cell_type": "code",
   "execution_count": 3,
   "metadata": {},
   "outputs": [
    {
     "name": "stdout",
     "output_type": "stream",
     "text": [
      "Luis\n"
     ]
    }
   ],
   "source": [
    "# Almacenar las entradas del usuario\n",
    "#Pista: variable = input(\"¿Cuál es tu nombre?\")\n",
    "\n",
    "Nombre = input('¿Cual es tu nombre?') \n",
    "\n",
    "print(Nombre)"
   ]
  },
  {
   "cell_type": "markdown",
   "metadata": {},
   "source": [
    "# Convertir a número\n",
    "\n",
    "Debido a que `input` devuelve valores de cadena, necesitamos convertirlos en números. Para nuestro ejemplo, usaremos `int`"
   ]
  },
  {
   "cell_type": "code",
   "execution_count": 4,
   "metadata": {},
   "outputs": [
    {
     "name": "stdout",
     "output_type": "stream",
     "text": [
      "90000000\n",
      "80000000000\n"
     ]
    }
   ],
   "source": [
    "# Convierte las cadenas de ambos planetas a números enteros\n",
    "\n",
    "DTierra = input('Ingrese la distancia de la Tierra') \n",
    "\n",
    "DJupiter = input('Ingrese la distancia de la Jupiter') \n",
    "\n",
    "print(int(DTierra))\n",
    "\n",
    "print(int(DJupiter))"
   ]
  },
  {
   "cell_type": "markdown",
   "metadata": {},
   "source": [
    "### Realizar el cálculo y convertir a valor absoluto\n",
    "\n",
    "Con los valores almacenados como números, ahora puedes agregar el código para realizar el cálculo, restando el primer planeta del segundo. Debido a que el segundo planeta podría ser un número mayor, usarás `abs` para convertirlo a un valor absoluto. También agregarás el código para mostrar el resultado en millas multiplicando la distancia del kilómetro por `0.621`"
   ]
  },
  {
   "cell_type": "code",
   "execution_count": 5,
   "metadata": {},
   "outputs": [
    {
     "name": "stdout",
     "output_type": "stream",
     "text": [
      "49624110000.0\n"
     ]
    }
   ],
   "source": [
    "Distanciaabsoluta = abs( int(DJupiter) - int(DTierra) )\n",
    "\n",
    "Distanciaabsolutamillas = Distanciaabsoluta * 0.621\n",
    "\n",
    "print(Distanciaabsolutamillas)"
   ]
  },
  {
   "cell_type": "markdown",
   "metadata": {},
   "source": [
    "### Prueba tu aplicación\n",
    "Para probar el proyecto, ejecuta tu notebook. En la parte superior de vscode surgirá un cuadro de diálogo para que proporciones las distancias. Puede utilizar los datos de la tabla siguiente:\n",
    "\n",
    "| Planeta  | Distancia al sol |\n",
    "| ------- | ----------------- |\n",
    "| Mercurio | 57900000          |\n",
    "| Venus   | 108200000         |\n",
    "| Tierra   | 149600000         |\n",
    "| Marte    | 227900000         |\n",
    "| Júpiter | 778600000         |\n",
    "| Saturno  | 1433500000        |\n",
    "| Urano  | 2872500000        |\n",
    "| Neptuno | 4495100000        |"
   ]
  }
 ],
 "metadata": {
  "interpreter": {
   "hash": "cd0ede4ccace6be2a71a16b5b814c4f1f0f063b7c4c6f2b824ab9b3cc505844a"
  },
  "kernelspec": {
   "display_name": "Python 3.10.2 ('KatasModulo2': venv)",
   "language": "python",
   "name": "python3"
  },
  "language_info": {
   "codemirror_mode": {
    "name": "ipython",
    "version": 3
   },
   "file_extension": ".py",
   "mimetype": "text/x-python",
   "name": "python",
   "nbconvert_exporter": "python",
   "pygments_lexer": "ipython3",
   "version": "3.10.2"
  },
  "orig_nbformat": 4
 },
 "nbformat": 4,
 "nbformat_minor": 2
}
